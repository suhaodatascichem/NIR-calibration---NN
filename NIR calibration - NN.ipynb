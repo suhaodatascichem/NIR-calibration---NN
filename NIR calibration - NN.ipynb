{
  "nbformat": 4,
  "nbformat_minor": 0,
  "metadata": {
    "colab": {
      "provenance": [],
      "include_colab_link": true
    },
    "kernelspec": {
      "name": "python3",
      "display_name": "Python 3"
    },
    "language_info": {
      "name": "python"
    }
  },
  "cells": [
    {
      "cell_type": "markdown",
      "metadata": {
        "id": "view-in-github",
        "colab_type": "text"
      },
      "source": [
        "<a href=\"https://colab.research.google.com/github/suhaodatascichem/NIR-calibration---NN/blob/main/NIR%20calibration%20-%20NN.ipynb\" target=\"_parent\"><img src=\"https://colab.research.google.com/assets/colab-badge.svg\" alt=\"Open In Colab\"/></a>"
      ]
    },
    {
      "cell_type": "code",
      "execution_count": null,
      "metadata": {
        "id": "hN2k8TijYmRz",
        "outputId": "87eafa75-f014-4c83-b5d1-a25180a19081",
        "colab": {
          "base_uri": "https://localhost:8080/"
        }
      },
      "outputs": [
        {
          "output_type": "stream",
          "name": "stdout",
          "text": [
            "Collecting brukeropusreader\n",
            "  Downloading brukeropusreader-1.3.4.tar.gz (3.0 kB)\n",
            "  Preparing metadata (setup.py) ... \u001b[?25l\u001b[?25hdone\n",
            "Requirement already satisfied: numpy>=1.13.3 in /usr/local/lib/python3.11/dist-packages (from brukeropusreader) (1.26.4)\n",
            "Requirement already satisfied: scipy>=0.19.1 in /usr/local/lib/python3.11/dist-packages (from brukeropusreader) (1.13.1)\n",
            "Building wheels for collected packages: brukeropusreader\n",
            "  Building wheel for brukeropusreader (setup.py) ... \u001b[?25l\u001b[?25hdone\n",
            "  Created wheel for brukeropusreader: filename=brukeropusreader-1.3.4-py3-none-any.whl size=5303 sha256=215b373e8a98f62ea75ff9fee8f76c2ec2b1d91e721577b24f1b354976abf6c6\n",
            "  Stored in directory: /root/.cache/pip/wheels/33/b6/88/6f85a1072c5d56dc11f6f28858fc7049281172fa48a5100908\n",
            "Successfully built brukeropusreader\n",
            "Installing collected packages: brukeropusreader\n",
            "Successfully installed brukeropusreader-1.3.4\n"
          ]
        }
      ],
      "source": [
        "# read bruker files - brukeropusreader\n",
        "!pip install brukeropusreader"
      ]
    },
    {
      "cell_type": "code",
      "source": [
        "# Step 1: Read and Combine OPUS Files\n",
        "data_directory = \"C:/NIR calibration - NN\""
      ],
      "metadata": {
        "id": "KZFZgqdDC6o5"
      },
      "execution_count": null,
      "outputs": []
    }
  ]
}