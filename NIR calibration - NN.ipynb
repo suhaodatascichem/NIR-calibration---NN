{
  "nbformat": 4,
  "nbformat_minor": 0,
  "metadata": {
    "colab": {
      "provenance": [],
      "include_colab_link": true
    },
    "kernelspec": {
      "name": "python3",
      "display_name": "Python 3"
    },
    "language_info": {
      "name": "python"
    }
  },
  "cells": [
    {
      "cell_type": "markdown",
      "metadata": {
        "id": "view-in-github",
        "colab_type": "text"
      },
      "source": [
        "<a href=\"https://colab.research.google.com/github/suhaodatascichem/NIR-calibration---NN/blob/main/NIR%20calibration%20-%20NN.ipynb\" target=\"_parent\"><img src=\"https://colab.research.google.com/assets/colab-badge.svg\" alt=\"Open In Colab\"/></a>"
      ]
    },
    {
      "cell_type": "code",
      "source": [
        "from setuptools import setup\n",
        "\n",
        "setup(\n",
        "    name=\"brukeropusreader\",\n",
        "    use_scm_version=True,\n",
        "    description=\"Bruker OPUS File Reader\",\n",
        "    author=\"QED\",\n",
        "    author_email=\"brukeropusreader-dev@qed.ai\",\n",
        "    packages=[\"brukeropusreader\"],\n",
        "    # install_requires=[\"numpy>=1.13.3\", \"scipy>=0.19.1\"],\n",
        "    license=\"LGPLv3+\",\n",
        "    url=\"https://github.com/qedsoftware/brukeropusreader\",\n",
        ")"
      ],
      "metadata": {
        "id": "fFiC9Egzbnkw"
      },
      "execution_count": null,
      "outputs": []
    },
    {
      "cell_type": "code",
      "execution_count": 1,
      "metadata": {
        "id": "hN2k8TijYmRz",
        "outputId": "b7718c57-a8f0-4c25-cb98-211a8846ead6",
        "colab": {
          "base_uri": "https://localhost:8080/",
          "height": 106
        }
      },
      "outputs": [
        {
          "output_type": "error",
          "ename": "SyntaxError",
          "evalue": "invalid syntax (<ipython-input-1-aa7910d8215c>, line 2)",
          "traceback": [
            "\u001b[0;36m  File \u001b[0;32m\"<ipython-input-1-aa7910d8215c>\"\u001b[0;36m, line \u001b[0;32m2\u001b[0m\n\u001b[0;31m    pip install brukeropusreader\u001b[0m\n\u001b[0m        ^\u001b[0m\n\u001b[0;31mSyntaxError\u001b[0m\u001b[0;31m:\u001b[0m invalid syntax\n"
          ]
        }
      ],
      "source": [
        "# read bruker files - brukeropusreader\n",
        "pip install brukeropusreader"
      ]
    },
    {
      "cell_type": "code",
      "source": [
        "import argparse\n",
        "import sys\n",
        "\n",
        "from brukeropusreader import read_file\n",
        "\n",
        "\n",
        "def main(path_to_file):\n",
        "    print(f\"Reading opus file from path\" f\"{path_to_file}\")\n",
        "    opus_data = read_file(path_to_file)\n",
        "\n",
        "    print(f\"Data fields: \" f\"{list(opus_data.keys())}\")\n",
        "\n",
        "    ab_x = opus_data.get_range(\"AB\")\n",
        "    # the \"AB\" data can contain more null values at the end (at least 1)\n",
        "    # so the getting useful data requires slicing the array:\n",
        "    abs = opus_data[\"AB\"][0:len(ab_x)]\n",
        "    print(f\"Absorption spectrum range: \" f\"{ab_x[0]} {ab_x[-1]}\")\n",
        "    print(f\"Absorption elements num: \" f'{len(abs)}')\n",
        "\n",
        "    try:\n",
        "        import matplotlib.pyplot as plt\n",
        "\n",
        "        print(\"Plotting AB\")\n",
        "        plt.plot(opus_data.get_range(\"AB\"), abs)\n",
        "        plt.show()\n",
        "\n",
        "        print(\"Plotting interpolated AB\")\n",
        "        plt.plot(*opus_data.interpolate(ab_x[0], ab_x[-1], 100))\n",
        "        plt.show()\n",
        "\n",
        "    except ImportError:\n",
        "        print(f\"Install matplotlib to plot spectra\")\n",
        "\n",
        "\n",
        "if __name__ == \"__main__\":\n",
        "    parser = argparse.ArgumentParser()\n",
        "    parser.add_argument(\"opus_path\", help=\"Path to opus file\", action=\"store\")\n",
        "    args = parser.parse_args()\n",
        "    main(sys.argv[1])"
      ],
      "metadata": {
        "id": "CwQaPj7VbJIQ"
      },
      "execution_count": null,
      "outputs": []
    },
    {
      "cell_type": "code",
      "source": [
        "from brukeropusreader import read_file\n",
        "\n",
        "opus_data = read_file('opus_file.0')\n",
        "\n",
        "print(f'Parsed fields: '\n",
        "      f'{list(opus_data.keys())}')\n",
        "\n",
        "print(f'Absorption spectrum: '\n",
        "      f'{opus_data[\"AB\"]}'"
      ],
      "metadata": {
        "id": "cTVvGDxmbAF6"
      },
      "execution_count": null,
      "outputs": []
    }
  ]
}